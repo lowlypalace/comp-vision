{
 "cells": [
  {
   "cell_type": "markdown",
   "metadata": {},
   "source": [
    "# SPARK Dataset\n"
   ]
  },
  {
   "cell_type": "code",
   "execution_count": 2,
   "metadata": {},
   "outputs": [
    {
     "name": "stdout",
     "output_type": "stream",
     "text": [
      "Found Pytorch\n"
     ]
    }
   ],
   "source": [
    "from spark_utils import PyTorchSparkDataset\n",
    "from matplotlib import pyplot as plt\n",
    "from random import randint"
   ]
  },
  {
   "cell_type": "code",
   "execution_count": 3,
   "metadata": {},
   "outputs": [],
   "source": [
    "import torch\n",
    "import torchvision\n",
    "\n",
    "# We are using BETA APIs, so we deactivate the associated warning, thereby acknowledging that\n",
    "# some APIs may slightly change in the future\n",
    "torchvision.disable_beta_transforms_warning()"
   ]
  },
  {
   "cell_type": "code",
   "execution_count": 4,
   "metadata": {},
   "outputs": [],
   "source": [
    "# Wrap a PyTorchSparkDataset dataset for usage with torchvision.transforms.v2\n",
    "\n",
    "class PyTorchSparkDatasetV2(torch.utils.data.Dataset):\n",
    "\n",
    "    def __init__(self, class_map, split='train', root_dir='', transform=None, detection=True):\n",
    "        super().__init__()\n",
    "        self.dataset = PyTorchSparkDataset(class_map, split=split, root_dir=root_dir, transform=transform, detection=True)\n",
    "\n",
    "    def __len__(self):\n",
    "        return len(self.dataset)\n",
    "\n",
    "    def __getitem__(self, idx):\n",
    "        image, label, bbox = self.dataset[idx]\n",
    "\n",
    "        image = torchvision.tv_tensors.Image(image)\n",
    "        label = torch.tensor([label])\n",
    "        bbox = torchvision.tv_tensors.BoundingBoxes(bbox,\n",
    "                                                    format = torchvision.tv_tensors.BoundingBoxFormat.XYXY, \n",
    "                                                    canvas_size=image.size)\n",
    "\n",
    "        target = {'boxes': bbox, 'labels': label}\n",
    "        return image, target"
   ]
  },
  {
   "cell_type": "code",
   "execution_count": 5,
   "metadata": {},
   "outputs": [],
   "source": [
    "from torchvision.transforms import v2 as T\n",
    "from torchvision import models, datasets, tv_tensors\n",
    "\n",
    "def get_transform(train):\n",
    "    transforms = []\n",
    "    transforms.append(T.ToImage())\n",
    "\n",
    "    if train:\n",
    "        pass\n",
    "\n",
    "        # TODO: Add your own transformations for the train set here\n",
    "\n",
    "        # transforms.append(T.RandomPhotometricDistort(p = 0.5))\n",
    "        # transforms.append(T.RandomZoomOut(fill={tv_tensors.Image: (123, 117, 104), \"others\": 0}))\n",
    "        # transforms.append(T.RandomIoUCrop())\n",
    "        # transforms.append(T.RandomHorizontalFlip(p = 0.5))\n",
    "        # transforms.append(T.SanitizeBoundingBoxes())\n",
    "\n",
    "    transforms.append(T.ToDtype(torch.float, scale=True))\n",
    "    transforms.append(T.ToPureTensor())\n",
    "    \n",
    "    return T.Compose(transforms)\n"
   ]
  },
  {
   "cell_type": "code",
   "execution_count": 6,
   "metadata": {},
   "outputs": [],
   "source": [
    "# Set up the path to a local copy of the SPARK dataset, labels csv files should be in the same directory.\n",
    "# The image sets should be in /data/train, /data/validation and /data/test.\n",
    "data_path = './data/'\n",
    "\n",
    "# Define the class map, this is a dictionary that maps the class names to integer labels.\n",
    "class_map = {'proba_2':0, 'cheops':1, 'debris':2, 'double_star':3, 'earth_observation_sat_1':4, 'lisa_pathfinder':5,\n",
    "                        'proba_3_csc' :6, 'proba_3_ocs':7, 'smart_1':8, 'soho':9, 'xmm_newton':10}\n",
    "\n",
    "num_classes = len(class_map)\n",
    "\n",
    "def get_dataset(is_train, class_map, data_path):\n",
    "\n",
    "    split = \"train\" if is_train else \"validation\"\n",
    "\n",
    "    # We use the PyTorchSparkDatasetV2 class defined above.\n",
    "    dataset = PyTorchSparkDatasetV2(class_map, split=split, root_dir=data_path, transform=get_transform(is_train))\n",
    "\n",
    "    return dataset"
   ]
  },
  {
   "cell_type": "code",
   "execution_count": 7,
   "metadata": {},
   "outputs": [],
   "source": [
    "# Define the datasets for training and validation.\n",
    "dataset = get_dataset(is_train=True, class_map=class_map, data_path=data_path)\n",
    "\n",
    "dataset_valid = get_dataset(is_train=False, class_map=class_map, data_path=data_path)\n"
   ]
  },
  {
   "cell_type": "code",
   "execution_count": 38,
   "metadata": {},
   "outputs": [],
   "source": [
    "# Define the dataloaders for training and validation.\n",
    "batch_size = 10\n",
    "\n",
    "data_loader = torch.utils.data.DataLoader(\n",
    "    dataset,\n",
    "    batch_size=batch_size,\n",
    "    shuffle=True,\n",
    "    drop_last=True,\n",
    "    collate_fn=lambda batch: tuple(zip(*batch)),\n",
    ")\n",
    "\n",
    "data_loader_valid = torch.utils.data.DataLoader(\n",
    "    dataset_valid,\n",
    "    batch_size=batch_size,\n",
    "    shuffle=False,\n",
    "    drop_last=True,\n",
    "    collate_fn=lambda batch: tuple(zip(*batch)),\n",
    ")"
   ]
  },
  {
   "cell_type": "code",
   "execution_count": 14,
   "metadata": {},
   "outputs": [
    {
     "name": "stdout",
     "output_type": "stream",
     "text": [
      "Image type: <class 'torchvision.tv_tensors._image.Image'>\n",
      "Image shape: torch.Size([3, 1024, 1024])\n",
      "Image dtype: torch.float32\n",
      "\n",
      "Target type: <class 'dict'>\n",
      "Target keys:  ['boxes', 'labels']\n",
      "\n",
      "Boxes type: <class 'torchvision.tv_tensors._bounding_boxes.BoundingBoxes'>\n",
      "Boxes shape: torch.Size([1, 4])\n",
      "\n",
      "Labels type: <class 'torch.Tensor'>\n",
      "Labels shape: torch.Size([1])\n",
      "Labels dtype: torch.int64\n"
     ]
    }
   ],
   "source": [
    "# Check dataset format for debugging purposes\n",
    "sample = dataset[0]\n",
    "image, target = sample\n",
    "\n",
    "print(f\"Image type: {type(image)}\")\n",
    "print(f\"Image shape: {image.shape}\")\n",
    "print(f\"Image dtype: {image.dtype}\")\n",
    "print()\n",
    "print(f\"Target type: {type(target)}\")\n",
    "print(\"Target keys: \", list(target.keys()))\n",
    "print()\n",
    "print(f\"Boxes type: {type(target['boxes'])}\")\n",
    "print(f\"Boxes shape: {target['boxes'].shape}\")\n",
    "print()\n",
    "print(f\"Labels type: {type(target['labels'])}\")\n",
    "print(f\"Labels shape: {target['labels'].shape}\")\n",
    "print(f\"Labels dtype: {target['labels'].dtype}\")\n"
   ]
  },
  {
   "cell_type": "code",
   "execution_count": 15,
   "metadata": {},
   "outputs": [],
   "source": [
    "import torchvision\n",
    "from torchvision.models.detection.faster_rcnn import FastRCNNPredictor\n",
    "\n",
    "# Define the model\n",
    "def get_model_instance_segmentation(num_classes):\n",
    "    # Load an instance segmentation model pre-trained on COCO\n",
    "    model = torchvision.models.detection.fasterrcnn_resnet50_fpn_v2(weights=\"DEFAULT\")\n",
    "    # Get the number of input features for the classifier\n",
    "    in_features = model.roi_heads.box_predictor.cls_score.in_features\n",
    "    # Replace the pre-trained head with a new one\n",
    "    model.roi_heads.box_predictor = FastRCNNPredictor(in_features, num_classes)\n",
    "\n",
    "    return model"
   ]
  },
  {
   "cell_type": "code",
   "execution_count": 41,
   "metadata": {},
   "outputs": [
    {
     "name": "stdout",
     "output_type": "stream",
     "text": [
      "Epoch: [0]  [   0/6600]  eta: 3 days, 6:14:54  lr: 0.000010  loss: 2.5683 (2.5683)  loss_classifier: 2.4118 (2.4118)  loss_box_reg: 0.0369 (0.0369)  loss_objectness: 0.1097 (0.1097)  loss_rpn_box_reg: 0.0098 (0.0098)  time: 42.6810  data: 0.4406\n"
     ]
    }
   ],
   "source": [
    "from engine import train_one_epoch, evaluate\n",
    "\n",
    "# Train on the GPU or on the CPU, if a GPU is not available\n",
    "device = torch.device('cuda') if torch.cuda.is_available() else torch.device('cpu')\n",
    "\n",
    "# Get the model using our helper function\n",
    "model = get_model_instance_segmentation(num_classes)\n",
    "\n",
    "# Move model to the right device\n",
    "model.to(device)\n",
    "\n",
    "# Construct an optimizer\n",
    "params = [p for p in model.parameters() if p.requires_grad]\n",
    "optimizer = torch.optim.SGD(\n",
    "    params,\n",
    "    lr=0.005,\n",
    "    momentum=0.9,\n",
    "    weight_decay=0.0005\n",
    ")\n",
    "\n",
    "# And a learning rate scheduler\n",
    "lr_scheduler = torch.optim.lr_scheduler.StepLR(\n",
    "    optimizer,\n",
    "    step_size=3,\n",
    "    gamma=0.1\n",
    ")\n",
    "\n",
    "# Let's train it for 5 epochs\n",
    "num_epochs = 5\n",
    "\n",
    "for epoch in range(num_epochs):\n",
    "    # Train for one epoch, printing every 10 iterations\n",
    "    train_one_epoch(model, optimizer, data_loader, device, epoch, print_freq=10)\n",
    "    # Update the learning rate\n",
    "    lr_scheduler.step()\n",
    "    # Evaluate on the test dataset\n",
    "    evaluate(model, data_loader_valid, device=device)"
   ]
  },
  {
   "cell_type": "code",
   "execution_count": 9,
   "metadata": {},
   "outputs": [],
   "source": [
    "# model = models.get_model(\"fasterrcnn_resnet50_fpn_v2\", weights='COCO_V1', weights_backbone=None).train()\n",
    "\n",
    "# for imgs, targets in data_loader:\n",
    "#     loss_dict = model(imgs, targets)\n",
    "#     # Put your training logic here\n",
    "\n",
    "#     print(f\"{[img.shape for img in imgs] = }\")\n",
    "#     print(f\"{[type(target) for target in targets] = }\")\n",
    "#     for name, loss_val in loss_dict.items():\n",
    "#         print(f\"{name:<20}{loss_val:.3f}\")"
   ]
  },
  {
   "cell_type": "code",
   "execution_count": 10,
   "metadata": {},
   "outputs": [],
   "source": [
    "# !train.py\\\n",
    "#     --dataset coco --model fasterrcnn_resnet50_fpn --epochs 26\\\n",
    "#     --lr-steps 16 22 --aspect-ratio-group-factor 3 --weights-backbone ResNet50_Weights.IMAGENET1K_V1"
   ]
  },
  {
   "cell_type": "code",
   "execution_count": 11,
   "metadata": {},
   "outputs": [],
   "source": [
    "# rows = 3\n",
    "# cols = 4\n",
    "\n",
    "# fig, axes = plt.subplots(rows, cols, figsize=(15, 15))\n",
    "# total_images=9 # total number of images in the split\n",
    "\n",
    "# for i in range(rows):\n",
    "#     for j in range(cols):\n",
    "#         dataset.visualize(randint(0, total_images),size = (10,10),ax=axes[i][j])\n",
    "#         axes[i][j].axis('off')\n",
    "# fig.tight_layout()"
   ]
  },
  {
   "cell_type": "code",
   "execution_count": null,
   "metadata": {},
   "outputs": [],
   "source": []
  },
  {
   "cell_type": "code",
   "execution_count": null,
   "metadata": {},
   "outputs": [],
   "source": []
  }
 ],
 "metadata": {
  "kernelspec": {
   "display_name": "Python 3",
   "language": "python",
   "name": "python3"
  },
  "language_info": {
   "codemirror_mode": {
    "name": "ipython",
    "version": 3
   },
   "file_extension": ".py",
   "mimetype": "text/x-python",
   "name": "python",
   "nbconvert_exporter": "python",
   "pygments_lexer": "ipython3",
   "version": "3.10.4"
  }
 },
 "nbformat": 4,
 "nbformat_minor": 4
}
