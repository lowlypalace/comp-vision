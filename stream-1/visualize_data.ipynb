{
 "cells": [
  {
   "cell_type": "markdown",
   "metadata": {},
   "source": [
    "# SPARK Dataset\n"
   ]
  },
  {
   "cell_type": "code",
   "execution_count": 16,
   "metadata": {},
   "outputs": [],
   "source": [
    "from spark_utils import PyTorchSparkDataset\n",
    "from matplotlib import pyplot as plt\n",
    "from random import randint"
   ]
  },
  {
   "cell_type": "code",
   "execution_count": 17,
   "metadata": {},
   "outputs": [],
   "source": [
    "import torch\n",
    "import torchvision\n",
    "\n",
    "# We are using BETA APIs, so we deactivate the associated warning, thereby acknowledging that\n",
    "# some APIs may slightly change in the future\n",
    "torchvision.disable_beta_transforms_warning()"
   ]
  },
  {
   "cell_type": "markdown",
   "metadata": {},
   "source": [
    "In the code below, we are wrapping images and bounding boxes `torchvision.TVTensor classes` so that we will be able to apply torchvision built-in transformations for the given object detection and segmentation task. Namely, image tensors will be wrapped by `torchvision.tv_tensors.Image` and bounding boxes into `torchvision.tv_tensors.BoundingBoxes`."
   ]
  },
  {
   "cell_type": "code",
   "execution_count": 18,
   "metadata": {},
   "outputs": [],
   "source": [
    "# Wrap a PyTorchSparkDataset dataset for usage with torchvision.transforms.v2\n",
    "\n",
    "class PyTorchSparkDatasetV2(torch.utils.data.Dataset):\n",
    "\n",
    "    def __init__(self, class_map, split='train', root_dir='', transform=None, detection=True):\n",
    "        super().__init__()\n",
    "        self.dataset = PyTorchSparkDataset(class_map, split=split, root_dir=root_dir, transform=transform, detection=True)\n",
    "\n",
    "    def __len__(self):\n",
    "        return len(self.dataset)\n",
    "\n",
    "    def __getitem__(self, idx):\n",
    "        image, label, bbox = self.dataset[idx]\n",
    "\n",
    "        image = torchvision.tv_tensors.Image(image)\n",
    "        label = torch.tensor([label])\n",
    "        bbox = torchvision.tv_tensors.BoundingBoxes(bbox,\n",
    "                                                    format = torchvision.tv_tensors.BoundingBoxFormat.XYXY, \n",
    "                                                    canvas_size=image.size)\n",
    "\n",
    "        target = {'boxes': bbox, 'labels': label}\n",
    "        return image, target"
   ]
  },
  {
   "cell_type": "code",
   "execution_count": 19,
   "metadata": {},
   "outputs": [],
   "source": [
    "from torchvision.transforms import v2 as T\n",
    "from torchvision import models, datasets, tv_tensors\n",
    "\n",
    "# Define the transforms to be applied to the data.\n",
    "def get_transform(is_train):\n",
    "    transforms = []\n",
    "    transforms.append(T.ToImage())\n",
    "\n",
    "    # TODO: Add your own transformations for the train set here.\n",
    "    \n",
    "    # if is_train:\n",
    "        # transforms.append(T.RandomPhotometricDistort(p = 0.5))\n",
    "        # transforms.append(T.RandomZoomOut(fill={tv_tensors.Image: (123, 117, 104), \"others\": 0}))\n",
    "        # transforms.append(T.RandomIoUCrop())\n",
    "        # transforms.append(T.RandomHorizontalFlip(p = 0.5))\n",
    "        # transforms.append(T.SanitizeBoundingBoxes())\n",
    "\n",
    "    transforms.append(T.ToDtype(torch.float, scale=True))\n",
    "    transforms.append(T.ToPureTensor())\n",
    "    \n",
    "    return T.Compose(transforms)\n"
   ]
  },
  {
   "cell_type": "code",
   "execution_count": 20,
   "metadata": {},
   "outputs": [],
   "source": [
    "def get_dataset(is_train, class_map, data_path):\n",
    "\n",
    "    split = \"train\" if is_train else \"validation\"\n",
    "\n",
    "    # We use the PyTorchSparkDatasetV2 class defined above.\n",
    "    dataset = PyTorchSparkDatasetV2(class_map=class_map, \n",
    "                                    split=split, \n",
    "                                    root_dir=data_path, \n",
    "                                    transform=get_transform(is_train))\n",
    "\n",
    "    return dataset"
   ]
  },
  {
   "cell_type": "code",
   "execution_count": 21,
   "metadata": {},
   "outputs": [],
   "source": [
    "# Set up the path to a local copy of the SPARK dataset, labels csv files should be in the same directory.\n",
    "# The image sets should be in /data/train, /data/validation and /data/test.\n",
    "data_path = './data/'\n",
    "\n",
    "# Define the class map, this is a dictionary that maps the class names to integer labels.\n",
    "class_map = {'proba_2':0, 'cheops':1, 'debris':2, 'double_star':3, 'earth_observation_sat_1':4, 'lisa_pathfinder':5,\n",
    "                        'proba_3_csc' :6, 'proba_3_ocs':7, 'smart_1':8, 'soho':9, 'xmm_newton':10}\n",
    "\n",
    "# Define the number of classes\n",
    "num_classes = len(class_map)\n",
    "\n",
    "# Define the datasets for training and validation.\n",
    "dataset = get_dataset(is_train=True, class_map=class_map, data_path=data_path)\n",
    "dataset_valid = get_dataset(is_train=False, class_map=class_map, data_path=data_path)\n"
   ]
  },
  {
   "cell_type": "code",
   "execution_count": 22,
   "metadata": {},
   "outputs": [],
   "source": [
    "# Define the batch size to be used.\n",
    "batch_size = 10\n",
    "\n",
    "\n",
    "# Define the dataloaders for training and validation.\n",
    "data_loader = torch.utils.data.DataLoader(\n",
    "    dataset,\n",
    "    batch_size=batch_size,\n",
    "    shuffle=True,\n",
    "    drop_last=True,\n",
    "    collate_fn=lambda batch: tuple(zip(*batch)),\n",
    ")\n",
    "\n",
    "data_loader_valid = torch.utils.data.DataLoader(\n",
    "    dataset_valid,\n",
    "    batch_size=batch_size,\n",
    "    shuffle=False,\n",
    "    drop_last=True,\n",
    "    collate_fn=lambda batch: tuple(zip(*batch)),\n",
    ")"
   ]
  },
  {
   "cell_type": "code",
   "execution_count": 23,
   "metadata": {},
   "outputs": [
    {
     "name": "stdout",
     "output_type": "stream",
     "text": [
      "Image type: <class 'torchvision.tv_tensors._image.Image'>\n",
      "Image shape: torch.Size([3, 1024, 1024])\n",
      "Image dtype: torch.float32\n",
      "\n",
      "Target type: <class 'dict'>\n",
      "Target keys:  ['boxes', 'labels']\n",
      "\n",
      "Boxes type: <class 'torchvision.tv_tensors._bounding_boxes.BoundingBoxes'>\n",
      "Boxes shape: torch.Size([1, 4])\n",
      "\n",
      "Labels type: <class 'torch.Tensor'>\n",
      "Labels shape: torch.Size([1])\n",
      "Labels dtype: torch.int64\n"
     ]
    }
   ],
   "source": [
    "# Check dataset format for debugging purposes\n",
    "sample = dataset[0]\n",
    "image, target = sample\n",
    "\n",
    "print(f\"Image type: {type(image)}\")\n",
    "print(f\"Image shape: {image.shape}\")\n",
    "print(f\"Image dtype: {image.dtype}\")\n",
    "print()\n",
    "print(f\"Target type: {type(target)}\")\n",
    "print(\"Target keys: \", list(target.keys()))\n",
    "print()\n",
    "print(f\"Boxes type: {type(target['boxes'])}\")\n",
    "print(f\"Boxes shape: {target['boxes'].shape}\")\n",
    "print()\n",
    "print(f\"Labels type: {type(target['labels'])}\")\n",
    "print(f\"Labels shape: {target['labels'].shape}\")\n",
    "print(f\"Labels dtype: {target['labels'].dtype}\")\n"
   ]
  },
  {
   "cell_type": "code",
   "execution_count": 24,
   "metadata": {},
   "outputs": [],
   "source": [
    "import torchvision\n",
    "from torchvision.models.detection.faster_rcnn import FastRCNNPredictor\n",
    "\n",
    "# Define the model\n",
    "def get_model_instance_segmentation(num_classes):\n",
    "    # Load an instance segmentation model pre-trained on COCO\n",
    "    model = torchvision.models.detection.fasterrcnn_resnet50_fpn_v2(weights=\"DEFAULT\")\n",
    "    # Get the number of input features for the classifier\n",
    "    in_features = model.roi_heads.box_predictor.cls_score.in_features\n",
    "    # Replace the pre-trained head with a new one\n",
    "    model.roi_heads.box_predictor = FastRCNNPredictor(in_features, num_classes)\n",
    "\n",
    "    return model"
   ]
  },
  {
   "cell_type": "code",
   "execution_count": 25,
   "metadata": {},
   "outputs": [
    {
     "name": "stdout",
     "output_type": "stream",
     "text": [
      "Epoch: [0]  [   0/6600]  eta: 2 days, 16:07:44  lr: 0.000010  loss: 2.9747 (2.9747)  loss_classifier: 2.8324 (2.8324)  loss_box_reg: 0.0366 (0.0366)  loss_objectness: 0.0981 (0.0981)  loss_rpn_box_reg: 0.0077 (0.0077)  time: 34.9795  data: 0.1342\n"
     ]
    },
    {
     "ename": "KeyboardInterrupt",
     "evalue": "",
     "output_type": "error",
     "traceback": [
      "\u001b[0;31m---------------------------------------------------------------------------\u001b[0m",
      "\u001b[0;31mKeyboardInterrupt\u001b[0m                         Traceback (most recent call last)",
      "\u001b[1;32m/Users/daniel/dev/2022-utils/stream-1/visualize_data.ipynb Cell 11\u001b[0m line \u001b[0;36m3\n\u001b[1;32m     <a href='vscode-notebook-cell:/Users/daniel/dev/2022-utils/stream-1/visualize_data.ipynb#X32sZmlsZQ%3D%3D?line=28'>29</a>\u001b[0m num_epochs \u001b[39m=\u001b[39m \u001b[39m5\u001b[39m\n\u001b[1;32m     <a href='vscode-notebook-cell:/Users/daniel/dev/2022-utils/stream-1/visualize_data.ipynb#X32sZmlsZQ%3D%3D?line=30'>31</a>\u001b[0m \u001b[39mfor\u001b[39;00m epoch \u001b[39min\u001b[39;00m \u001b[39mrange\u001b[39m(num_epochs):\n\u001b[1;32m     <a href='vscode-notebook-cell:/Users/daniel/dev/2022-utils/stream-1/visualize_data.ipynb#X32sZmlsZQ%3D%3D?line=31'>32</a>\u001b[0m     \u001b[39m# Train for one epoch, printing every 10 iterations\u001b[39;00m\n\u001b[0;32m---> <a href='vscode-notebook-cell:/Users/daniel/dev/2022-utils/stream-1/visualize_data.ipynb#X32sZmlsZQ%3D%3D?line=32'>33</a>\u001b[0m     train_one_epoch(model, optimizer, data_loader, device, epoch, print_freq\u001b[39m=\u001b[39;49m\u001b[39m10\u001b[39;49m)\n\u001b[1;32m     <a href='vscode-notebook-cell:/Users/daniel/dev/2022-utils/stream-1/visualize_data.ipynb#X32sZmlsZQ%3D%3D?line=33'>34</a>\u001b[0m     \u001b[39m# Update the learning rate\u001b[39;00m\n\u001b[1;32m     <a href='vscode-notebook-cell:/Users/daniel/dev/2022-utils/stream-1/visualize_data.ipynb#X32sZmlsZQ%3D%3D?line=34'>35</a>\u001b[0m     lr_scheduler\u001b[39m.\u001b[39mstep()\n",
      "File \u001b[0;32m~/dev/2022-utils/stream-1/engine.py:51\u001b[0m, in \u001b[0;36mtrain_one_epoch\u001b[0;34m(model, optimizer, data_loader, device, epoch, print_freq, scaler)\u001b[0m\n\u001b[1;32m     49\u001b[0m     scaler\u001b[39m.\u001b[39mupdate()\n\u001b[1;32m     50\u001b[0m \u001b[39melse\u001b[39;00m:\n\u001b[0;32m---> 51\u001b[0m     losses\u001b[39m.\u001b[39;49mbackward()\n\u001b[1;32m     52\u001b[0m     optimizer\u001b[39m.\u001b[39mstep()\n\u001b[1;32m     54\u001b[0m \u001b[39mif\u001b[39;00m lr_scheduler \u001b[39mis\u001b[39;00m \u001b[39mnot\u001b[39;00m \u001b[39mNone\u001b[39;00m:\n",
      "File \u001b[0;32m~/.pyenv/versions/3.10.4/lib/python3.10/site-packages/torch/_tensor.py:492\u001b[0m, in \u001b[0;36mTensor.backward\u001b[0;34m(self, gradient, retain_graph, create_graph, inputs)\u001b[0m\n\u001b[1;32m    482\u001b[0m \u001b[39mif\u001b[39;00m has_torch_function_unary(\u001b[39mself\u001b[39m):\n\u001b[1;32m    483\u001b[0m     \u001b[39mreturn\u001b[39;00m handle_torch_function(\n\u001b[1;32m    484\u001b[0m         Tensor\u001b[39m.\u001b[39mbackward,\n\u001b[1;32m    485\u001b[0m         (\u001b[39mself\u001b[39m,),\n\u001b[0;32m   (...)\u001b[0m\n\u001b[1;32m    490\u001b[0m         inputs\u001b[39m=\u001b[39minputs,\n\u001b[1;32m    491\u001b[0m     )\n\u001b[0;32m--> 492\u001b[0m torch\u001b[39m.\u001b[39;49mautograd\u001b[39m.\u001b[39;49mbackward(\n\u001b[1;32m    493\u001b[0m     \u001b[39mself\u001b[39;49m, gradient, retain_graph, create_graph, inputs\u001b[39m=\u001b[39;49minputs\n\u001b[1;32m    494\u001b[0m )\n",
      "File \u001b[0;32m~/.pyenv/versions/3.10.4/lib/python3.10/site-packages/torch/autograd/__init__.py:251\u001b[0m, in \u001b[0;36mbackward\u001b[0;34m(tensors, grad_tensors, retain_graph, create_graph, grad_variables, inputs)\u001b[0m\n\u001b[1;32m    246\u001b[0m     retain_graph \u001b[39m=\u001b[39m create_graph\n\u001b[1;32m    248\u001b[0m \u001b[39m# The reason we repeat the same comment below is that\u001b[39;00m\n\u001b[1;32m    249\u001b[0m \u001b[39m# some Python versions print out the first line of a multi-line function\u001b[39;00m\n\u001b[1;32m    250\u001b[0m \u001b[39m# calls in the traceback and some print out the last line\u001b[39;00m\n\u001b[0;32m--> 251\u001b[0m Variable\u001b[39m.\u001b[39;49m_execution_engine\u001b[39m.\u001b[39;49mrun_backward(  \u001b[39m# Calls into the C++ engine to run the backward pass\u001b[39;49;00m\n\u001b[1;32m    252\u001b[0m     tensors,\n\u001b[1;32m    253\u001b[0m     grad_tensors_,\n\u001b[1;32m    254\u001b[0m     retain_graph,\n\u001b[1;32m    255\u001b[0m     create_graph,\n\u001b[1;32m    256\u001b[0m     inputs,\n\u001b[1;32m    257\u001b[0m     allow_unreachable\u001b[39m=\u001b[39;49m\u001b[39mTrue\u001b[39;49;00m,\n\u001b[1;32m    258\u001b[0m     accumulate_grad\u001b[39m=\u001b[39;49m\u001b[39mTrue\u001b[39;49;00m,\n\u001b[1;32m    259\u001b[0m )\n",
      "\u001b[0;31mKeyboardInterrupt\u001b[0m: "
     ]
    }
   ],
   "source": [
    "from engine import train_one_epoch, evaluate\n",
    "\n",
    "# Train on the GPU or on the CPU, if a GPU is not available\n",
    "device = torch.device('cuda') if torch.cuda.is_available() else torch.device('cpu')\n",
    "\n",
    "# Get the model using our helper function\n",
    "model = get_model_instance_segmentation(num_classes)\n",
    "\n",
    "# Move model to the right device\n",
    "model.to(device)\n",
    "\n",
    "# Construct an optimizer\n",
    "params = [p for p in model.parameters() if p.requires_grad]\n",
    "optimizer = torch.optim.SGD(\n",
    "    params,\n",
    "    lr=0.005,\n",
    "    momentum=0.9,\n",
    "    weight_decay=0.0005\n",
    ")\n",
    "\n",
    "# And a learning rate scheduler\n",
    "lr_scheduler = torch.optim.lr_scheduler.StepLR(\n",
    "    optimizer,\n",
    "    step_size=3,\n",
    "    gamma=0.1\n",
    ")\n",
    "\n",
    "# Let's train it for 5 epochs\n",
    "num_epochs = 5\n",
    "\n",
    "for epoch in range(num_epochs):\n",
    "    # Train for one epoch, printing every 10 iterations\n",
    "    train_one_epoch(model, optimizer, data_loader, device, epoch, print_freq=10)\n",
    "    # Update the learning rate\n",
    "    lr_scheduler.step()\n",
    "    # Evaluate on the test dataset\n",
    "    evaluate(model, data_loader_valid, device=device)"
   ]
  },
  {
   "cell_type": "code",
   "execution_count": 9,
   "metadata": {},
   "outputs": [],
   "source": [
    "# model = models.get_model(\"fasterrcnn_resnet50_fpn_v2\", weights='COCO_V1', weights_backbone=None).train()\n",
    "\n",
    "# for imgs, targets in data_loader:\n",
    "#     loss_dict = model(imgs, targets)\n",
    "#     # Put your training logic here\n",
    "\n",
    "#     print(f\"{[img.shape for img in imgs] = }\")\n",
    "#     print(f\"{[type(target) for target in targets] = }\")\n",
    "#     for name, loss_val in loss_dict.items():\n",
    "#         print(f\"{name:<20}{loss_val:.3f}\")"
   ]
  },
  {
   "cell_type": "code",
   "execution_count": 10,
   "metadata": {},
   "outputs": [],
   "source": [
    "# !train.py\\\n",
    "#     --dataset coco --model fasterrcnn_resnet50_fpn --epochs 26\\\n",
    "#     --lr-steps 16 22 --aspect-ratio-group-factor 3 --weights-backbone ResNet50_Weights.IMAGENET1K_V1"
   ]
  },
  {
   "cell_type": "code",
   "execution_count": 11,
   "metadata": {},
   "outputs": [],
   "source": [
    "# rows = 3\n",
    "# cols = 4\n",
    "\n",
    "# fig, axes = plt.subplots(rows, cols, figsize=(15, 15))\n",
    "# total_images=9 # total number of images in the split\n",
    "\n",
    "# for i in range(rows):\n",
    "#     for j in range(cols):\n",
    "#         dataset.visualize(randint(0, total_images),size = (10,10),ax=axes[i][j])\n",
    "#         axes[i][j].axis('off')\n",
    "# fig.tight_layout()"
   ]
  },
  {
   "cell_type": "code",
   "execution_count": null,
   "metadata": {},
   "outputs": [],
   "source": []
  },
  {
   "cell_type": "code",
   "execution_count": null,
   "metadata": {},
   "outputs": [],
   "source": []
  }
 ],
 "metadata": {
  "kernelspec": {
   "display_name": "Python 3",
   "language": "python",
   "name": "python3"
  },
  "language_info": {
   "codemirror_mode": {
    "name": "ipython",
    "version": 3
   },
   "file_extension": ".py",
   "mimetype": "text/x-python",
   "name": "python",
   "nbconvert_exporter": "python",
   "pygments_lexer": "ipython3",
   "version": "3.10.4"
  }
 },
 "nbformat": 4,
 "nbformat_minor": 4
}
